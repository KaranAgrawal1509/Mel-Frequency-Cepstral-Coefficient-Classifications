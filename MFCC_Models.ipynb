{
  "nbformat": 4,
  "nbformat_minor": 0,
  "metadata": {
    "colab": {
      "provenance": []
    },
    "kernelspec": {
      "name": "python3",
      "display_name": "Python 3"
    },
    "language_info": {
      "name": "python"
    },
    "accelerator": "GPU",
    "gpuClass": "standard"
  },
  "cells": [
    {
      "cell_type": "code",
      "execution_count": 1,
      "metadata": {
        "id": "etw_p2wxH3Te"
      },
      "outputs": [],
      "source": [
        "#Importing all necessary libraries for this execution\n",
        "import tensorflow as tf\n",
        "import librosa\n",
        "import matplotlib.pyplot as plt\n",
        "from scipy.io import wavfile as wav\n",
        "import pandas as pd\n",
        "import os\n",
        "import librosa\n",
        "import numpy as np\n",
        "from tqdm import tqdm\n",
        "from tensorflow.keras.utils import to_categorical\n",
        "from sklearn.preprocessing import LabelEncoder\n",
        "from sklearn.model_selection import train_test_split\n",
        "from tensorflow.keras.models import Sequential\n",
        "from tensorflow.keras.layers import Dense,Dropout,Activation,Flatten, LSTM\n",
        "from tensorflow.keras.optimizers import Adam\n",
        "from sklearn import metrics\n",
        "from sklearn.svm import SVC\n",
        "from sklearn.ensemble import RandomForestClassifier\n",
        "from sklearn.metrics import *\n",
        "from sklearn.pipeline import make_pipeline\n",
        "from sklearn.preprocessing import StandardScaler\n",
        "from sklearn.svm import SVC\n",
        "from sklearn.ensemble import RandomForestClassifier\n",
        "\n",
        "from keras import backend as K\n",
        "#Training a Deep Neural Network, and Saving the best model\n",
        "from tensorflow.keras.callbacks import ModelCheckpoint\n",
        "from datetime import datetime \n",
        "from keras.wrappers.scikit_learn import KerasClassifier\n",
        "from sklearn.model_selection import GridSearchCV\n",
        "from sklearn.metrics import confusion_matrix"
      ]
    },
    {
      "cell_type": "code",
      "source": [
        "def plot_performance(data):\n",
        "    fig, ax = plt.subplots(1,2 , figsize = (20,7))\n",
        "    # summarize history for accuracy\n",
        "    ax[0].plot(data.history['accuracy'])\n",
        "    ax[0].plot(data.history['val_accuracy'])\n",
        "    ax[0].set_title('model accuracy')\n",
        "    ax[0].set_xlabel(\"Epochs\")\n",
        "    ax[0].set_ylabel(\"Accuracy\")\n",
        "    ax[0].legend(['train', 'test'], loc='upper left')\n",
        "\n",
        "    # summarize history for loss\n",
        "    ax[1].plot(data.history['loss'], label =['loss'])\n",
        "    ax[1].plot(data.history['val_loss'] ,label =['val_loss'])\n",
        "    ax[1].set_title('model loss')\n",
        "    ax[1].set_xlabel(\"Epochs\")\n",
        "    ax[1].set_ylabel(\"Loss\")\n",
        "    ax[1].legend(['train', 'test'], loc='upper left')\n",
        "    plt.show()"
      ],
      "metadata": {
        "id": "c6ImETze9G6v"
      },
      "execution_count": 2,
      "outputs": []
    },
    {
      "cell_type": "code",
      "source": [
        "extracted_features_df = pd.read_csv(\"https://github.com/KaranAgrawal1509/Urban-Sound-Classification/raw/main/Metadata/MFCCs.csv\")\n",
        "extracted_features_df"
      ],
      "metadata": {
        "colab": {
          "base_uri": "https://localhost:8080/",
          "height": 424
        },
        "id": "tYf6gJ-GIENm",
        "outputId": "e5a0427c-a144-4895-9da8-16c4e20139ef"
      },
      "execution_count": 3,
      "outputs": [
        {
          "output_type": "execute_result",
          "data": {
            "text/plain": [
              "                 class          0           1           2          3  \\\n",
              "0             dog_bark -211.93698   62.581203 -122.813150 -60.745293   \n",
              "1     children_playing -417.00520   99.336624  -42.995586  51.073326   \n",
              "2     children_playing -452.39316  112.362530  -37.578068  43.195866   \n",
              "3     children_playing -406.47922   91.196600  -25.043558  42.784520   \n",
              "4     children_playing -439.63873  103.862240  -42.658787  50.690277   \n",
              "...                ...        ...         ...         ...        ...   \n",
              "8727          car_horn -391.37210  125.362390  -40.634056  25.899754   \n",
              "8728          car_horn -339.42715   76.409096  -35.309883  41.984035   \n",
              "8729          car_horn -297.31534  102.090260  -36.751080  26.816488   \n",
              "8730          car_horn -336.92386  115.313900  -44.847100  24.968985   \n",
              "8731          car_horn -307.41760   83.306730  -25.756512  35.448110   \n",
              "\n",
              "              4          5          6          7          8  ...        70  \\\n",
              "0    -13.893760 -29.789835  -3.978875  11.682742  12.963830  ...  0.324511   \n",
              "1      9.853778   7.969693  11.197088   1.929117   7.030397  ... -0.042892   \n",
              "2      8.631844  15.379366  16.882149   1.233048   6.833122  ... -0.107935   \n",
              "3     11.586844   5.054164  12.431632  -1.599949   6.656064  ... -1.563005   \n",
              "4     12.209422  15.873465  11.729268   1.533585  11.292244  ... -1.517887   \n",
              "...         ...        ...        ...        ...        ...  ...       ...   \n",
              "8727   1.730347   5.575200  16.873087   7.889440   3.488613  ... -4.102539   \n",
              "8728 -22.963873 -13.623511  27.856026  -9.215819  -5.666291  ... -1.366996   \n",
              "8729  -0.249390   3.960868  11.113069   1.912290   0.677115  ...  1.847145   \n",
              "8730  -9.888025  -2.154685  22.700090   0.234236  -0.122909  ... -1.912338   \n",
              "8731   4.414006  -0.893326   9.015661   8.213615  -1.967305  ... -3.566608   \n",
              "\n",
              "            71        72        73        74        75        76        77  \\\n",
              "0     1.514106  2.155947  1.580951 -1.321769 -3.285912 -3.684266  0.075934   \n",
              "1     0.442094 -0.311315  0.749658 -1.185292  0.672009 -0.203904  0.843772   \n",
              "2     0.836189 -0.866050  0.989036  0.166954  1.828340 -0.641306  1.170986   \n",
              "3     1.110121 -0.831134 -0.202216 -1.031376 -0.573062 -1.235855  0.603222   \n",
              "4     0.367679 -0.645478  0.970620 -0.021970  0.859087 -1.042097 -0.116440   \n",
              "...        ...       ...       ...       ...       ...       ...       ...   \n",
              "8727  1.591708  1.754115  2.055592 -1.289034 -0.265378 -0.251471 -0.389598   \n",
              "8728  1.735160 -1.416760  1.599422  0.131289  0.614055  0.021380  0.767239   \n",
              "8729  3.558338 -0.992298 -1.373567 -2.257117 -0.712134 -1.614370  1.099659   \n",
              "8730  1.955025 -2.233400 -1.820418 -2.034626 -1.908629 -3.614250  1.244706   \n",
              "8731 -0.882148 -0.560247 -0.734371 -1.284373 -0.252427 -1.205993  1.196452   \n",
              "\n",
              "            78        79  \n",
              "0     1.307521  1.510565  \n",
              "1    -1.600764  0.216213  \n",
              "2     0.242448  0.228041  \n",
              "3    -0.894410  0.474847  \n",
              "4    -0.740542  0.843810  \n",
              "...        ...       ...  \n",
              "8727  0.717945  1.088910  \n",
              "8728 -1.556029  0.282285  \n",
              "8729 -1.268688  0.166942  \n",
              "8730 -2.809676  0.148261  \n",
              "8731 -4.268204  0.606074  \n",
              "\n",
              "[8732 rows x 81 columns]"
            ],
            "text/html": [
              "\n",
              "  <div id=\"df-194a118a-e4b7-4450-82e5-86bb7f39df6b\">\n",
              "    <div class=\"colab-df-container\">\n",
              "      <div>\n",
              "<style scoped>\n",
              "    .dataframe tbody tr th:only-of-type {\n",
              "        vertical-align: middle;\n",
              "    }\n",
              "\n",
              "    .dataframe tbody tr th {\n",
              "        vertical-align: top;\n",
              "    }\n",
              "\n",
              "    .dataframe thead th {\n",
              "        text-align: right;\n",
              "    }\n",
              "</style>\n",
              "<table border=\"1\" class=\"dataframe\">\n",
              "  <thead>\n",
              "    <tr style=\"text-align: right;\">\n",
              "      <th></th>\n",
              "      <th>class</th>\n",
              "      <th>0</th>\n",
              "      <th>1</th>\n",
              "      <th>2</th>\n",
              "      <th>3</th>\n",
              "      <th>4</th>\n",
              "      <th>5</th>\n",
              "      <th>6</th>\n",
              "      <th>7</th>\n",
              "      <th>8</th>\n",
              "      <th>...</th>\n",
              "      <th>70</th>\n",
              "      <th>71</th>\n",
              "      <th>72</th>\n",
              "      <th>73</th>\n",
              "      <th>74</th>\n",
              "      <th>75</th>\n",
              "      <th>76</th>\n",
              "      <th>77</th>\n",
              "      <th>78</th>\n",
              "      <th>79</th>\n",
              "    </tr>\n",
              "  </thead>\n",
              "  <tbody>\n",
              "    <tr>\n",
              "      <th>0</th>\n",
              "      <td>dog_bark</td>\n",
              "      <td>-211.93698</td>\n",
              "      <td>62.581203</td>\n",
              "      <td>-122.813150</td>\n",
              "      <td>-60.745293</td>\n",
              "      <td>-13.893760</td>\n",
              "      <td>-29.789835</td>\n",
              "      <td>-3.978875</td>\n",
              "      <td>11.682742</td>\n",
              "      <td>12.963830</td>\n",
              "      <td>...</td>\n",
              "      <td>0.324511</td>\n",
              "      <td>1.514106</td>\n",
              "      <td>2.155947</td>\n",
              "      <td>1.580951</td>\n",
              "      <td>-1.321769</td>\n",
              "      <td>-3.285912</td>\n",
              "      <td>-3.684266</td>\n",
              "      <td>0.075934</td>\n",
              "      <td>1.307521</td>\n",
              "      <td>1.510565</td>\n",
              "    </tr>\n",
              "    <tr>\n",
              "      <th>1</th>\n",
              "      <td>children_playing</td>\n",
              "      <td>-417.00520</td>\n",
              "      <td>99.336624</td>\n",
              "      <td>-42.995586</td>\n",
              "      <td>51.073326</td>\n",
              "      <td>9.853778</td>\n",
              "      <td>7.969693</td>\n",
              "      <td>11.197088</td>\n",
              "      <td>1.929117</td>\n",
              "      <td>7.030397</td>\n",
              "      <td>...</td>\n",
              "      <td>-0.042892</td>\n",
              "      <td>0.442094</td>\n",
              "      <td>-0.311315</td>\n",
              "      <td>0.749658</td>\n",
              "      <td>-1.185292</td>\n",
              "      <td>0.672009</td>\n",
              "      <td>-0.203904</td>\n",
              "      <td>0.843772</td>\n",
              "      <td>-1.600764</td>\n",
              "      <td>0.216213</td>\n",
              "    </tr>\n",
              "    <tr>\n",
              "      <th>2</th>\n",
              "      <td>children_playing</td>\n",
              "      <td>-452.39316</td>\n",
              "      <td>112.362530</td>\n",
              "      <td>-37.578068</td>\n",
              "      <td>43.195866</td>\n",
              "      <td>8.631844</td>\n",
              "      <td>15.379366</td>\n",
              "      <td>16.882149</td>\n",
              "      <td>1.233048</td>\n",
              "      <td>6.833122</td>\n",
              "      <td>...</td>\n",
              "      <td>-0.107935</td>\n",
              "      <td>0.836189</td>\n",
              "      <td>-0.866050</td>\n",
              "      <td>0.989036</td>\n",
              "      <td>0.166954</td>\n",
              "      <td>1.828340</td>\n",
              "      <td>-0.641306</td>\n",
              "      <td>1.170986</td>\n",
              "      <td>0.242448</td>\n",
              "      <td>0.228041</td>\n",
              "    </tr>\n",
              "    <tr>\n",
              "      <th>3</th>\n",
              "      <td>children_playing</td>\n",
              "      <td>-406.47922</td>\n",
              "      <td>91.196600</td>\n",
              "      <td>-25.043558</td>\n",
              "      <td>42.784520</td>\n",
              "      <td>11.586844</td>\n",
              "      <td>5.054164</td>\n",
              "      <td>12.431632</td>\n",
              "      <td>-1.599949</td>\n",
              "      <td>6.656064</td>\n",
              "      <td>...</td>\n",
              "      <td>-1.563005</td>\n",
              "      <td>1.110121</td>\n",
              "      <td>-0.831134</td>\n",
              "      <td>-0.202216</td>\n",
              "      <td>-1.031376</td>\n",
              "      <td>-0.573062</td>\n",
              "      <td>-1.235855</td>\n",
              "      <td>0.603222</td>\n",
              "      <td>-0.894410</td>\n",
              "      <td>0.474847</td>\n",
              "    </tr>\n",
              "    <tr>\n",
              "      <th>4</th>\n",
              "      <td>children_playing</td>\n",
              "      <td>-439.63873</td>\n",
              "      <td>103.862240</td>\n",
              "      <td>-42.658787</td>\n",
              "      <td>50.690277</td>\n",
              "      <td>12.209422</td>\n",
              "      <td>15.873465</td>\n",
              "      <td>11.729268</td>\n",
              "      <td>1.533585</td>\n",
              "      <td>11.292244</td>\n",
              "      <td>...</td>\n",
              "      <td>-1.517887</td>\n",
              "      <td>0.367679</td>\n",
              "      <td>-0.645478</td>\n",
              "      <td>0.970620</td>\n",
              "      <td>-0.021970</td>\n",
              "      <td>0.859087</td>\n",
              "      <td>-1.042097</td>\n",
              "      <td>-0.116440</td>\n",
              "      <td>-0.740542</td>\n",
              "      <td>0.843810</td>\n",
              "    </tr>\n",
              "    <tr>\n",
              "      <th>...</th>\n",
              "      <td>...</td>\n",
              "      <td>...</td>\n",
              "      <td>...</td>\n",
              "      <td>...</td>\n",
              "      <td>...</td>\n",
              "      <td>...</td>\n",
              "      <td>...</td>\n",
              "      <td>...</td>\n",
              "      <td>...</td>\n",
              "      <td>...</td>\n",
              "      <td>...</td>\n",
              "      <td>...</td>\n",
              "      <td>...</td>\n",
              "      <td>...</td>\n",
              "      <td>...</td>\n",
              "      <td>...</td>\n",
              "      <td>...</td>\n",
              "      <td>...</td>\n",
              "      <td>...</td>\n",
              "      <td>...</td>\n",
              "      <td>...</td>\n",
              "    </tr>\n",
              "    <tr>\n",
              "      <th>8727</th>\n",
              "      <td>car_horn</td>\n",
              "      <td>-391.37210</td>\n",
              "      <td>125.362390</td>\n",
              "      <td>-40.634056</td>\n",
              "      <td>25.899754</td>\n",
              "      <td>1.730347</td>\n",
              "      <td>5.575200</td>\n",
              "      <td>16.873087</td>\n",
              "      <td>7.889440</td>\n",
              "      <td>3.488613</td>\n",
              "      <td>...</td>\n",
              "      <td>-4.102539</td>\n",
              "      <td>1.591708</td>\n",
              "      <td>1.754115</td>\n",
              "      <td>2.055592</td>\n",
              "      <td>-1.289034</td>\n",
              "      <td>-0.265378</td>\n",
              "      <td>-0.251471</td>\n",
              "      <td>-0.389598</td>\n",
              "      <td>0.717945</td>\n",
              "      <td>1.088910</td>\n",
              "    </tr>\n",
              "    <tr>\n",
              "      <th>8728</th>\n",
              "      <td>car_horn</td>\n",
              "      <td>-339.42715</td>\n",
              "      <td>76.409096</td>\n",
              "      <td>-35.309883</td>\n",
              "      <td>41.984035</td>\n",
              "      <td>-22.963873</td>\n",
              "      <td>-13.623511</td>\n",
              "      <td>27.856026</td>\n",
              "      <td>-9.215819</td>\n",
              "      <td>-5.666291</td>\n",
              "      <td>...</td>\n",
              "      <td>-1.366996</td>\n",
              "      <td>1.735160</td>\n",
              "      <td>-1.416760</td>\n",
              "      <td>1.599422</td>\n",
              "      <td>0.131289</td>\n",
              "      <td>0.614055</td>\n",
              "      <td>0.021380</td>\n",
              "      <td>0.767239</td>\n",
              "      <td>-1.556029</td>\n",
              "      <td>0.282285</td>\n",
              "    </tr>\n",
              "    <tr>\n",
              "      <th>8729</th>\n",
              "      <td>car_horn</td>\n",
              "      <td>-297.31534</td>\n",
              "      <td>102.090260</td>\n",
              "      <td>-36.751080</td>\n",
              "      <td>26.816488</td>\n",
              "      <td>-0.249390</td>\n",
              "      <td>3.960868</td>\n",
              "      <td>11.113069</td>\n",
              "      <td>1.912290</td>\n",
              "      <td>0.677115</td>\n",
              "      <td>...</td>\n",
              "      <td>1.847145</td>\n",
              "      <td>3.558338</td>\n",
              "      <td>-0.992298</td>\n",
              "      <td>-1.373567</td>\n",
              "      <td>-2.257117</td>\n",
              "      <td>-0.712134</td>\n",
              "      <td>-1.614370</td>\n",
              "      <td>1.099659</td>\n",
              "      <td>-1.268688</td>\n",
              "      <td>0.166942</td>\n",
              "    </tr>\n",
              "    <tr>\n",
              "      <th>8730</th>\n",
              "      <td>car_horn</td>\n",
              "      <td>-336.92386</td>\n",
              "      <td>115.313900</td>\n",
              "      <td>-44.847100</td>\n",
              "      <td>24.968985</td>\n",
              "      <td>-9.888025</td>\n",
              "      <td>-2.154685</td>\n",
              "      <td>22.700090</td>\n",
              "      <td>0.234236</td>\n",
              "      <td>-0.122909</td>\n",
              "      <td>...</td>\n",
              "      <td>-1.912338</td>\n",
              "      <td>1.955025</td>\n",
              "      <td>-2.233400</td>\n",
              "      <td>-1.820418</td>\n",
              "      <td>-2.034626</td>\n",
              "      <td>-1.908629</td>\n",
              "      <td>-3.614250</td>\n",
              "      <td>1.244706</td>\n",
              "      <td>-2.809676</td>\n",
              "      <td>0.148261</td>\n",
              "    </tr>\n",
              "    <tr>\n",
              "      <th>8731</th>\n",
              "      <td>car_horn</td>\n",
              "      <td>-307.41760</td>\n",
              "      <td>83.306730</td>\n",
              "      <td>-25.756512</td>\n",
              "      <td>35.448110</td>\n",
              "      <td>4.414006</td>\n",
              "      <td>-0.893326</td>\n",
              "      <td>9.015661</td>\n",
              "      <td>8.213615</td>\n",
              "      <td>-1.967305</td>\n",
              "      <td>...</td>\n",
              "      <td>-3.566608</td>\n",
              "      <td>-0.882148</td>\n",
              "      <td>-0.560247</td>\n",
              "      <td>-0.734371</td>\n",
              "      <td>-1.284373</td>\n",
              "      <td>-0.252427</td>\n",
              "      <td>-1.205993</td>\n",
              "      <td>1.196452</td>\n",
              "      <td>-4.268204</td>\n",
              "      <td>0.606074</td>\n",
              "    </tr>\n",
              "  </tbody>\n",
              "</table>\n",
              "<p>8732 rows × 81 columns</p>\n",
              "</div>\n",
              "      <button class=\"colab-df-convert\" onclick=\"convertToInteractive('df-194a118a-e4b7-4450-82e5-86bb7f39df6b')\"\n",
              "              title=\"Convert this dataframe to an interactive table.\"\n",
              "              style=\"display:none;\">\n",
              "        \n",
              "  <svg xmlns=\"http://www.w3.org/2000/svg\" height=\"24px\"viewBox=\"0 0 24 24\"\n",
              "       width=\"24px\">\n",
              "    <path d=\"M0 0h24v24H0V0z\" fill=\"none\"/>\n",
              "    <path d=\"M18.56 5.44l.94 2.06.94-2.06 2.06-.94-2.06-.94-.94-2.06-.94 2.06-2.06.94zm-11 1L8.5 8.5l.94-2.06 2.06-.94-2.06-.94L8.5 2.5l-.94 2.06-2.06.94zm10 10l.94 2.06.94-2.06 2.06-.94-2.06-.94-.94-2.06-.94 2.06-2.06.94z\"/><path d=\"M17.41 7.96l-1.37-1.37c-.4-.4-.92-.59-1.43-.59-.52 0-1.04.2-1.43.59L10.3 9.45l-7.72 7.72c-.78.78-.78 2.05 0 2.83L4 21.41c.39.39.9.59 1.41.59.51 0 1.02-.2 1.41-.59l7.78-7.78 2.81-2.81c.8-.78.8-2.07 0-2.86zM5.41 20L4 18.59l7.72-7.72 1.47 1.35L5.41 20z\"/>\n",
              "  </svg>\n",
              "      </button>\n",
              "      \n",
              "  <style>\n",
              "    .colab-df-container {\n",
              "      display:flex;\n",
              "      flex-wrap:wrap;\n",
              "      gap: 12px;\n",
              "    }\n",
              "\n",
              "    .colab-df-convert {\n",
              "      background-color: #E8F0FE;\n",
              "      border: none;\n",
              "      border-radius: 50%;\n",
              "      cursor: pointer;\n",
              "      display: none;\n",
              "      fill: #1967D2;\n",
              "      height: 32px;\n",
              "      padding: 0 0 0 0;\n",
              "      width: 32px;\n",
              "    }\n",
              "\n",
              "    .colab-df-convert:hover {\n",
              "      background-color: #E2EBFA;\n",
              "      box-shadow: 0px 1px 2px rgba(60, 64, 67, 0.3), 0px 1px 3px 1px rgba(60, 64, 67, 0.15);\n",
              "      fill: #174EA6;\n",
              "    }\n",
              "\n",
              "    [theme=dark] .colab-df-convert {\n",
              "      background-color: #3B4455;\n",
              "      fill: #D2E3FC;\n",
              "    }\n",
              "\n",
              "    [theme=dark] .colab-df-convert:hover {\n",
              "      background-color: #434B5C;\n",
              "      box-shadow: 0px 1px 3px 1px rgba(0, 0, 0, 0.15);\n",
              "      filter: drop-shadow(0px 1px 2px rgba(0, 0, 0, 0.3));\n",
              "      fill: #FFFFFF;\n",
              "    }\n",
              "  </style>\n",
              "\n",
              "      <script>\n",
              "        const buttonEl =\n",
              "          document.querySelector('#df-194a118a-e4b7-4450-82e5-86bb7f39df6b button.colab-df-convert');\n",
              "        buttonEl.style.display =\n",
              "          google.colab.kernel.accessAllowed ? 'block' : 'none';\n",
              "\n",
              "        async function convertToInteractive(key) {\n",
              "          const element = document.querySelector('#df-194a118a-e4b7-4450-82e5-86bb7f39df6b');\n",
              "          const dataTable =\n",
              "            await google.colab.kernel.invokeFunction('convertToInteractive',\n",
              "                                                     [key], {});\n",
              "          if (!dataTable) return;\n",
              "\n",
              "          const docLinkHtml = 'Like what you see? Visit the ' +\n",
              "            '<a target=\"_blank\" href=https://colab.research.google.com/notebooks/data_table.ipynb>data table notebook</a>'\n",
              "            + ' to learn more about interactive tables.';\n",
              "          element.innerHTML = '';\n",
              "          dataTable['output_type'] = 'display_data';\n",
              "          await google.colab.output.renderOutput(dataTable, element);\n",
              "          const docLink = document.createElement('div');\n",
              "          docLink.innerHTML = docLinkHtml;\n",
              "          element.appendChild(docLink);\n",
              "        }\n",
              "      </script>\n",
              "    </div>\n",
              "  </div>\n",
              "  "
            ]
          },
          "metadata": {},
          "execution_count": 3
        }
      ]
    },
    {
      "cell_type": "code",
      "source": [
        "# Concatenate columns 0-3 separated by commas into a new column 'Features'\n",
        "extracted_features_df['feature'] = extracted_features_df.loc[:, '0':'79'].apply(lambda x: ','.join(x.astype(str)), axis=1)\n",
        "# Convert comma-separated values into lists of numerical values\n",
        "extracted_features_df['feature'] = extracted_features_df['feature'].apply(lambda x: [float(i) for i in x.split(',')])\n",
        "cols_to_drop = [str(i) for i in range(80)]\n",
        "extracted_features_df.drop(cols_to_drop, axis=1, inplace=True)\n",
        "extracted_features_df"
      ],
      "metadata": {
        "colab": {
          "base_uri": "https://localhost:8080/",
          "height": 424
        },
        "id": "R3JarRZyJlYp",
        "outputId": "3936922f-6dc3-46cd-8e41-9f25dd1330ce"
      },
      "execution_count": 4,
      "outputs": [
        {
          "output_type": "execute_result",
          "data": {
            "text/plain": [
              "                 class                                            feature\n",
              "0             dog_bark  [-211.93698, 62.581203, -122.81315, -60.745293...\n",
              "1     children_playing  [-417.0052, 99.336624, -42.995586, 51.073326, ...\n",
              "2     children_playing  [-452.39316, 112.36253, -37.578068, 43.195866,...\n",
              "3     children_playing  [-406.47922, 91.1966, -25.043558, 42.78452, 11...\n",
              "4     children_playing  [-439.63873, 103.86224, -42.658787, 50.690277,...\n",
              "...                ...                                                ...\n",
              "8727          car_horn  [-391.3721, 125.36239, -40.634056, 25.899754, ...\n",
              "8728          car_horn  [-339.42715, 76.409096, -35.309883, 41.984035,...\n",
              "8729          car_horn  [-297.31534, 102.09026, -36.75108, 26.816488, ...\n",
              "8730          car_horn  [-336.92386, 115.3139, -44.8471, 24.968985, -9...\n",
              "8731          car_horn  [-307.4176, 83.30673, -25.756512, 35.44811, 4....\n",
              "\n",
              "[8732 rows x 2 columns]"
            ],
            "text/html": [
              "\n",
              "  <div id=\"df-99d995ff-9387-4fc9-89f8-619944cf189b\">\n",
              "    <div class=\"colab-df-container\">\n",
              "      <div>\n",
              "<style scoped>\n",
              "    .dataframe tbody tr th:only-of-type {\n",
              "        vertical-align: middle;\n",
              "    }\n",
              "\n",
              "    .dataframe tbody tr th {\n",
              "        vertical-align: top;\n",
              "    }\n",
              "\n",
              "    .dataframe thead th {\n",
              "        text-align: right;\n",
              "    }\n",
              "</style>\n",
              "<table border=\"1\" class=\"dataframe\">\n",
              "  <thead>\n",
              "    <tr style=\"text-align: right;\">\n",
              "      <th></th>\n",
              "      <th>class</th>\n",
              "      <th>feature</th>\n",
              "    </tr>\n",
              "  </thead>\n",
              "  <tbody>\n",
              "    <tr>\n",
              "      <th>0</th>\n",
              "      <td>dog_bark</td>\n",
              "      <td>[-211.93698, 62.581203, -122.81315, -60.745293...</td>\n",
              "    </tr>\n",
              "    <tr>\n",
              "      <th>1</th>\n",
              "      <td>children_playing</td>\n",
              "      <td>[-417.0052, 99.336624, -42.995586, 51.073326, ...</td>\n",
              "    </tr>\n",
              "    <tr>\n",
              "      <th>2</th>\n",
              "      <td>children_playing</td>\n",
              "      <td>[-452.39316, 112.36253, -37.578068, 43.195866,...</td>\n",
              "    </tr>\n",
              "    <tr>\n",
              "      <th>3</th>\n",
              "      <td>children_playing</td>\n",
              "      <td>[-406.47922, 91.1966, -25.043558, 42.78452, 11...</td>\n",
              "    </tr>\n",
              "    <tr>\n",
              "      <th>4</th>\n",
              "      <td>children_playing</td>\n",
              "      <td>[-439.63873, 103.86224, -42.658787, 50.690277,...</td>\n",
              "    </tr>\n",
              "    <tr>\n",
              "      <th>...</th>\n",
              "      <td>...</td>\n",
              "      <td>...</td>\n",
              "    </tr>\n",
              "    <tr>\n",
              "      <th>8727</th>\n",
              "      <td>car_horn</td>\n",
              "      <td>[-391.3721, 125.36239, -40.634056, 25.899754, ...</td>\n",
              "    </tr>\n",
              "    <tr>\n",
              "      <th>8728</th>\n",
              "      <td>car_horn</td>\n",
              "      <td>[-339.42715, 76.409096, -35.309883, 41.984035,...</td>\n",
              "    </tr>\n",
              "    <tr>\n",
              "      <th>8729</th>\n",
              "      <td>car_horn</td>\n",
              "      <td>[-297.31534, 102.09026, -36.75108, 26.816488, ...</td>\n",
              "    </tr>\n",
              "    <tr>\n",
              "      <th>8730</th>\n",
              "      <td>car_horn</td>\n",
              "      <td>[-336.92386, 115.3139, -44.8471, 24.968985, -9...</td>\n",
              "    </tr>\n",
              "    <tr>\n",
              "      <th>8731</th>\n",
              "      <td>car_horn</td>\n",
              "      <td>[-307.4176, 83.30673, -25.756512, 35.44811, 4....</td>\n",
              "    </tr>\n",
              "  </tbody>\n",
              "</table>\n",
              "<p>8732 rows × 2 columns</p>\n",
              "</div>\n",
              "      <button class=\"colab-df-convert\" onclick=\"convertToInteractive('df-99d995ff-9387-4fc9-89f8-619944cf189b')\"\n",
              "              title=\"Convert this dataframe to an interactive table.\"\n",
              "              style=\"display:none;\">\n",
              "        \n",
              "  <svg xmlns=\"http://www.w3.org/2000/svg\" height=\"24px\"viewBox=\"0 0 24 24\"\n",
              "       width=\"24px\">\n",
              "    <path d=\"M0 0h24v24H0V0z\" fill=\"none\"/>\n",
              "    <path d=\"M18.56 5.44l.94 2.06.94-2.06 2.06-.94-2.06-.94-.94-2.06-.94 2.06-2.06.94zm-11 1L8.5 8.5l.94-2.06 2.06-.94-2.06-.94L8.5 2.5l-.94 2.06-2.06.94zm10 10l.94 2.06.94-2.06 2.06-.94-2.06-.94-.94-2.06-.94 2.06-2.06.94z\"/><path d=\"M17.41 7.96l-1.37-1.37c-.4-.4-.92-.59-1.43-.59-.52 0-1.04.2-1.43.59L10.3 9.45l-7.72 7.72c-.78.78-.78 2.05 0 2.83L4 21.41c.39.39.9.59 1.41.59.51 0 1.02-.2 1.41-.59l7.78-7.78 2.81-2.81c.8-.78.8-2.07 0-2.86zM5.41 20L4 18.59l7.72-7.72 1.47 1.35L5.41 20z\"/>\n",
              "  </svg>\n",
              "      </button>\n",
              "      \n",
              "  <style>\n",
              "    .colab-df-container {\n",
              "      display:flex;\n",
              "      flex-wrap:wrap;\n",
              "      gap: 12px;\n",
              "    }\n",
              "\n",
              "    .colab-df-convert {\n",
              "      background-color: #E8F0FE;\n",
              "      border: none;\n",
              "      border-radius: 50%;\n",
              "      cursor: pointer;\n",
              "      display: none;\n",
              "      fill: #1967D2;\n",
              "      height: 32px;\n",
              "      padding: 0 0 0 0;\n",
              "      width: 32px;\n",
              "    }\n",
              "\n",
              "    .colab-df-convert:hover {\n",
              "      background-color: #E2EBFA;\n",
              "      box-shadow: 0px 1px 2px rgba(60, 64, 67, 0.3), 0px 1px 3px 1px rgba(60, 64, 67, 0.15);\n",
              "      fill: #174EA6;\n",
              "    }\n",
              "\n",
              "    [theme=dark] .colab-df-convert {\n",
              "      background-color: #3B4455;\n",
              "      fill: #D2E3FC;\n",
              "    }\n",
              "\n",
              "    [theme=dark] .colab-df-convert:hover {\n",
              "      background-color: #434B5C;\n",
              "      box-shadow: 0px 1px 3px 1px rgba(0, 0, 0, 0.15);\n",
              "      filter: drop-shadow(0px 1px 2px rgba(0, 0, 0, 0.3));\n",
              "      fill: #FFFFFF;\n",
              "    }\n",
              "  </style>\n",
              "\n",
              "      <script>\n",
              "        const buttonEl =\n",
              "          document.querySelector('#df-99d995ff-9387-4fc9-89f8-619944cf189b button.colab-df-convert');\n",
              "        buttonEl.style.display =\n",
              "          google.colab.kernel.accessAllowed ? 'block' : 'none';\n",
              "\n",
              "        async function convertToInteractive(key) {\n",
              "          const element = document.querySelector('#df-99d995ff-9387-4fc9-89f8-619944cf189b');\n",
              "          const dataTable =\n",
              "            await google.colab.kernel.invokeFunction('convertToInteractive',\n",
              "                                                     [key], {});\n",
              "          if (!dataTable) return;\n",
              "\n",
              "          const docLinkHtml = 'Like what you see? Visit the ' +\n",
              "            '<a target=\"_blank\" href=https://colab.research.google.com/notebooks/data_table.ipynb>data table notebook</a>'\n",
              "            + ' to learn more about interactive tables.';\n",
              "          element.innerHTML = '';\n",
              "          dataTable['output_type'] = 'display_data';\n",
              "          await google.colab.output.renderOutput(dataTable, element);\n",
              "          const docLink = document.createElement('div');\n",
              "          docLink.innerHTML = docLinkHtml;\n",
              "          element.appendChild(docLink);\n",
              "        }\n",
              "      </script>\n",
              "    </div>\n",
              "  </div>\n",
              "  "
            ]
          },
          "metadata": {},
          "execution_count": 4
        }
      ]
    },
    {
      "cell_type": "code",
      "source": [
        "#Split the dataset into independent and dependent dataset\n",
        "x=np.array(extracted_features_df['feature'].tolist())\n",
        "y=np.array(extracted_features_df['class'].tolist())"
      ],
      "metadata": {
        "id": "L2utTB3wIRqt"
      },
      "execution_count": 5,
      "outputs": []
    },
    {
      "cell_type": "code",
      "source": [
        "#Shape of Independent Features\n",
        "x.shape"
      ],
      "metadata": {
        "colab": {
          "base_uri": "https://localhost:8080/"
        },
        "id": "EPGtS_pwIe0F",
        "outputId": "ea02ebfb-3aa6-4e54-c82c-128a3a9f8b6f"
      },
      "execution_count": 6,
      "outputs": [
        {
          "output_type": "execute_result",
          "data": {
            "text/plain": [
              "(8732, 80)"
            ]
          },
          "metadata": {},
          "execution_count": 6
        }
      ]
    },
    {
      "cell_type": "code",
      "source": [
        "#Shape of Dependent Features\n",
        "y.shape"
      ],
      "metadata": {
        "colab": {
          "base_uri": "https://localhost:8080/"
        },
        "id": "YsLjRVEiJbcW",
        "outputId": "3be2cdee-ffa8-48b3-ed4c-c5f937ba77ff"
      },
      "execution_count": 7,
      "outputs": [
        {
          "output_type": "execute_result",
          "data": {
            "text/plain": [
              "(8732,)"
            ]
          },
          "metadata": {},
          "execution_count": 7
        }
      ]
    },
    {
      "cell_type": "code",
      "source": [
        "#One-Hot Encoding Dependent features to suit the use of Neural Networks\n",
        "labelencoder=LabelEncoder()\n",
        "labelencoder.fit(extracted_features_df['class'])\n",
        "labelencoder_name_mapping = dict(zip(labelencoder.classes_, labelencoder.transform(labelencoder.classes_)))\n",
        "y=to_categorical(labelencoder.fit_transform(y))"
      ],
      "metadata": {
        "id": "YlVXWDpuKx1D"
      },
      "execution_count": 8,
      "outputs": []
    },
    {
      "cell_type": "code",
      "source": [
        "#Created a mapping dictionary of Label and category\n",
        "labelencoder_name_mapping"
      ],
      "metadata": {
        "colab": {
          "base_uri": "https://localhost:8080/"
        },
        "id": "w4dONqmDKzUt",
        "outputId": "b862a200-51a8-4a28-9b63-db61a34be65e"
      },
      "execution_count": 9,
      "outputs": [
        {
          "output_type": "execute_result",
          "data": {
            "text/plain": [
              "{'air_conditioner': 0,\n",
              " 'car_horn': 1,\n",
              " 'children_playing': 2,\n",
              " 'dog_bark': 3,\n",
              " 'drilling': 4,\n",
              " 'engine_idling': 5,\n",
              " 'gun_shot': 6,\n",
              " 'jackhammer': 7,\n",
              " 'siren': 8,\n",
              " 'street_music': 9}"
            ]
          },
          "metadata": {},
          "execution_count": 9
        }
      ]
    },
    {
      "cell_type": "code",
      "source": [
        "#Data Spliting for Training and Validation Purpose\n",
        "x_train,x_test,y_train,y_test=train_test_split(x,y,test_size=0.2,random_state=0)"
      ],
      "metadata": {
        "id": "fKd16FjLK1I1"
      },
      "execution_count": 10,
      "outputs": []
    },
    {
      "cell_type": "code",
      "source": [
        "### No of classes\n",
        "num_labels=y.shape[1]"
      ],
      "metadata": {
        "id": "tfmvwolMK54d"
      },
      "execution_count": 11,
      "outputs": []
    },
    {
      "cell_type": "code",
      "source": [
        "def create_dnn_model(activation='relu', dropout_rate=0.4, optimizer='adam'):\n",
        "    # Define the model architecture\n",
        "    dnn_model = Sequential()\n",
        "    dnn_model.add(Dense(800, input_shape=(80, x.shape[1])))\n",
        "    dnn_model.add(Activation(activation))\n",
        "    dnn_model.add(Dropout(dropout_rate))\n",
        "    dnn_model.add(Dense(400))\n",
        "    dnn_model.add(Activation(activation))\n",
        "    dnn_model.add(Dropout(dropout_rate))\n",
        "    dnn_model.add(Dense(200))\n",
        "    dnn_model.add(Activation(activation))\n",
        "    dnn_model.add(Dropout(dropout_rate))\n",
        "    dnn_model.add(Dense(100))\n",
        "    dnn_model.add(Activation(activation))\n",
        "    dnn_model.add(Dropout(dropout_rate))\n",
        "    dnn_model.add(Dense(50))\n",
        "    dnn_model.add(Activation(activation))\n",
        "    dnn_model.add(Dropout(dropout_rate))\n",
        "    dnn_model.add(Dense(num_labels))\n",
        "    dnn_model.add(Activation('softmax'))\n",
        "    dnn_model.compile(loss='categorical_crossentropy', optimizer=optimizer, metrics=['accuracy'])\n",
        "    return dnn_model"
      ],
      "metadata": {
        "id": "yBNxLYigK7Sc"
      },
      "execution_count": 12,
      "outputs": []
    },
    {
      "cell_type": "code",
      "source": [
        "# Create the KerasClassifier wrapper\n",
        "model = KerasClassifier(build_fn=create_dnn_model, verbose=0)\n",
        "\n",
        "# Define the hyperparameters to tune\n",
        "param_grid = {\n",
        "    'activation': ['relu', 'tanh'],\n",
        "    'dropout_rate': [0.2, 0.4, 0.6],\n",
        "    'optimizer': ['adam', 'sgd']\n",
        "}\n",
        "\n",
        "# Create the GridSearchCV object\n",
        "grid = GridSearchCV(estimator=model, param_grid=param_grid, cv=3, n_jobs=-1)\n",
        "\n",
        "# Fit the GridSearchCV object to the data\n",
        "grid_result = grid.fit(x_train, y_train)\n",
        "\n",
        "# Print the best hyperparameters\n",
        "print(\"Best: %f using %s\" % (grid_result.best_score_, grid_result.best_params_))"
      ],
      "metadata": {
        "colab": {
          "base_uri": "https://localhost:8080/"
        },
        "id": "GGbZnorCLCVc",
        "outputId": "368ef740-98a0-4212-a24d-4f5a37c38df8"
      },
      "execution_count": 13,
      "outputs": [
        {
          "output_type": "stream",
          "name": "stderr",
          "text": [
            "<ipython-input-13-61c9cd504485>:2: DeprecationWarning: KerasClassifier is deprecated, use Sci-Keras (https://github.com/adriangb/scikeras) instead. See https://www.adriangb.com/scikeras/stable/migration.html for help migrating.\n",
            "  model = KerasClassifier(build_fn=create_dnn_model, verbose=0)\n",
            "WARNING:tensorflow:Model was constructed with shape (None, 80, 80) for input KerasTensor(type_spec=TensorSpec(shape=(None, 80, 80), dtype=tf.float32, name='dense_input'), name='dense_input', description=\"created by layer 'dense_input'\"), but it was called on an input with incompatible shape (None, 80).\n",
            "WARNING:tensorflow:Model was constructed with shape (None, 80, 80) for input KerasTensor(type_spec=TensorSpec(shape=(None, 80, 80), dtype=tf.float32, name='dense_input'), name='dense_input', description=\"created by layer 'dense_input'\"), but it was called on an input with incompatible shape (None, 80).\n"
          ]
        },
        {
          "output_type": "stream",
          "name": "stdout",
          "text": [
            "Best: 0.501785 using {'activation': 'tanh', 'dropout_rate': 0.2, 'optimizer': 'adam'}\n"
          ]
        }
      ]
    },
    {
      "cell_type": "code",
      "source": [
        "# Create the DNN model with the best hyperparameters\n",
        "best_activation = grid_result.best_params_['activation']\n",
        "best_dropout_rate = grid_result.best_params_['dropout_rate']\n",
        "best_optimizer = grid_result.best_params_['optimizer']\n",
        "dnn_model = create_dnn_model(activation=best_activation, dropout_rate=best_dropout_rate, optimizer=best_optimizer)\n",
        "\n",
        "# Fit the model to the training data\n",
        "dnn_history = dnn_model.fit(x_train, y_train, validation_data=(x_test, y_test), epochs=100, batch_size=128)\n"
      ],
      "metadata": {
        "colab": {
          "base_uri": "https://localhost:8080/"
        },
        "id": "6TEP0KPO7Ikt",
        "outputId": "8db720c8-c384-4c1f-eb14-69a9c988b556"
      },
      "execution_count": 14,
      "outputs": [
        {
          "output_type": "stream",
          "name": "stdout",
          "text": [
            "Epoch 1/100\n"
          ]
        },
        {
          "output_type": "stream",
          "name": "stderr",
          "text": [
            "WARNING:tensorflow:Model was constructed with shape (None, 80, 80) for input KerasTensor(type_spec=TensorSpec(shape=(None, 80, 80), dtype=tf.float32, name='dense_6_input'), name='dense_6_input', description=\"created by layer 'dense_6_input'\"), but it was called on an input with incompatible shape (None, 80).\n",
            "WARNING:tensorflow:Model was constructed with shape (None, 80, 80) for input KerasTensor(type_spec=TensorSpec(shape=(None, 80, 80), dtype=tf.float32, name='dense_6_input'), name='dense_6_input', description=\"created by layer 'dense_6_input'\"), but it was called on an input with incompatible shape (None, 80).\n"
          ]
        },
        {
          "output_type": "stream",
          "name": "stdout",
          "text": [
            "55/55 [==============================] - ETA: 0s - loss: 1.9049 - accuracy: 0.3306"
          ]
        },
        {
          "output_type": "stream",
          "name": "stderr",
          "text": [
            "WARNING:tensorflow:Model was constructed with shape (None, 80, 80) for input KerasTensor(type_spec=TensorSpec(shape=(None, 80, 80), dtype=tf.float32, name='dense_6_input'), name='dense_6_input', description=\"created by layer 'dense_6_input'\"), but it was called on an input with incompatible shape (None, 80).\n"
          ]
        },
        {
          "output_type": "stream",
          "name": "stdout",
          "text": [
            "\b\b\b\b\b\b\b\b\b\b\b\b\b\b\b\b\b\b\b\b\b\b\b\b\b\b\b\b\b\b\b\b\b\b\b\b\b\b\b\b\b\b\b\b\b\b\b\b\b\b\b\b\b\b\b\b\b\b\b\b\b\b\b\b\b\b\b\b\b\b\b\b\b\b\b\b\b\b\b\b\b\b\r55/55 [==============================] - 3s 27ms/step - loss: 1.9049 - accuracy: 0.3306 - val_loss: 1.4029 - val_accuracy: 0.5289\n",
            "Epoch 2/100\n",
            "55/55 [==============================] - 1s 23ms/step - loss: 1.3638 - accuracy: 0.5410 - val_loss: 1.0515 - val_accuracy: 0.6686\n",
            "Epoch 3/100\n",
            "55/55 [==============================] - 1s 21ms/step - loss: 1.1209 - accuracy: 0.6409 - val_loss: 0.8779 - val_accuracy: 0.7224\n",
            "Epoch 4/100\n",
            "55/55 [==============================] - 1s 24ms/step - loss: 0.9423 - accuracy: 0.6981 - val_loss: 0.7550 - val_accuracy: 0.7710\n",
            "Epoch 5/100\n",
            "55/55 [==============================] - 2s 34ms/step - loss: 0.8232 - accuracy: 0.7390 - val_loss: 0.6961 - val_accuracy: 0.7939\n",
            "Epoch 6/100\n",
            "55/55 [==============================] - 2s 28ms/step - loss: 0.7222 - accuracy: 0.7748 - val_loss: 0.6704 - val_accuracy: 0.7905\n",
            "Epoch 7/100\n",
            "55/55 [==============================] - 1s 22ms/step - loss: 0.6847 - accuracy: 0.7847 - val_loss: 0.6281 - val_accuracy: 0.8031\n",
            "Epoch 8/100\n",
            "55/55 [==============================] - 1s 20ms/step - loss: 0.6506 - accuracy: 0.7989 - val_loss: 0.5722 - val_accuracy: 0.8260\n",
            "Epoch 9/100\n",
            "55/55 [==============================] - 1s 22ms/step - loss: 0.6025 - accuracy: 0.8120 - val_loss: 0.5591 - val_accuracy: 0.8346\n",
            "Epoch 10/100\n",
            "55/55 [==============================] - 1s 21ms/step - loss: 0.5408 - accuracy: 0.8334 - val_loss: 0.5398 - val_accuracy: 0.8443\n",
            "Epoch 11/100\n",
            "55/55 [==============================] - 1s 21ms/step - loss: 0.5115 - accuracy: 0.8389 - val_loss: 0.5394 - val_accuracy: 0.8414\n",
            "Epoch 12/100\n",
            "55/55 [==============================] - 1s 21ms/step - loss: 0.4843 - accuracy: 0.8447 - val_loss: 0.5179 - val_accuracy: 0.8477\n",
            "Epoch 13/100\n",
            "55/55 [==============================] - 1s 21ms/step - loss: 0.4629 - accuracy: 0.8540 - val_loss: 0.4691 - val_accuracy: 0.8661\n",
            "Epoch 14/100\n",
            "55/55 [==============================] - 2s 28ms/step - loss: 0.4397 - accuracy: 0.8593 - val_loss: 0.4773 - val_accuracy: 0.8592\n",
            "Epoch 15/100\n",
            "55/55 [==============================] - 3s 56ms/step - loss: 0.4105 - accuracy: 0.8727 - val_loss: 0.4523 - val_accuracy: 0.8683\n",
            "Epoch 16/100\n",
            "55/55 [==============================] - 2s 43ms/step - loss: 0.3960 - accuracy: 0.8764 - val_loss: 0.4289 - val_accuracy: 0.8741\n",
            "Epoch 17/100\n",
            "55/55 [==============================] - 2s 42ms/step - loss: 0.3985 - accuracy: 0.8742 - val_loss: 0.5354 - val_accuracy: 0.8477\n",
            "Epoch 18/100\n",
            "55/55 [==============================] - 2s 41ms/step - loss: 0.3532 - accuracy: 0.8903 - val_loss: 0.4256 - val_accuracy: 0.8712\n",
            "Epoch 19/100\n",
            "55/55 [==============================] - 1s 21ms/step - loss: 0.3297 - accuracy: 0.8933 - val_loss: 0.4376 - val_accuracy: 0.8798\n",
            "Epoch 20/100\n",
            "55/55 [==============================] - 1s 22ms/step - loss: 0.3313 - accuracy: 0.8939 - val_loss: 0.4055 - val_accuracy: 0.8855\n",
            "Epoch 21/100\n",
            "55/55 [==============================] - 1s 22ms/step - loss: 0.3177 - accuracy: 0.9008 - val_loss: 0.4085 - val_accuracy: 0.8792\n",
            "Epoch 22/100\n",
            "55/55 [==============================] - 2s 33ms/step - loss: 0.3192 - accuracy: 0.8961 - val_loss: 0.4077 - val_accuracy: 0.8867\n",
            "Epoch 23/100\n",
            "55/55 [==============================] - 2s 33ms/step - loss: 0.3101 - accuracy: 0.9012 - val_loss: 0.4419 - val_accuracy: 0.8804\n",
            "Epoch 24/100\n",
            "55/55 [==============================] - 1s 21ms/step - loss: 0.3097 - accuracy: 0.9038 - val_loss: 0.4169 - val_accuracy: 0.8844\n",
            "Epoch 25/100\n",
            "55/55 [==============================] - 1s 21ms/step - loss: 0.3047 - accuracy: 0.9051 - val_loss: 0.4094 - val_accuracy: 0.8827\n",
            "Epoch 26/100\n",
            "55/55 [==============================] - 1s 21ms/step - loss: 0.2898 - accuracy: 0.9085 - val_loss: 0.4128 - val_accuracy: 0.8872\n",
            "Epoch 27/100\n",
            "55/55 [==============================] - 1s 21ms/step - loss: 0.2705 - accuracy: 0.9125 - val_loss: 0.3499 - val_accuracy: 0.9010\n",
            "Epoch 28/100\n",
            "55/55 [==============================] - 1s 25ms/step - loss: 0.2568 - accuracy: 0.9168 - val_loss: 0.4183 - val_accuracy: 0.8872\n",
            "Epoch 29/100\n",
            "55/55 [==============================] - 2s 29ms/step - loss: 0.2718 - accuracy: 0.9125 - val_loss: 0.4190 - val_accuracy: 0.8884\n",
            "Epoch 30/100\n",
            "55/55 [==============================] - 1s 23ms/step - loss: 0.2570 - accuracy: 0.9214 - val_loss: 0.4118 - val_accuracy: 0.8855\n",
            "Epoch 31/100\n",
            "55/55 [==============================] - 1s 22ms/step - loss: 0.2376 - accuracy: 0.9267 - val_loss: 0.4026 - val_accuracy: 0.8872\n",
            "Epoch 32/100\n",
            "55/55 [==============================] - 2s 33ms/step - loss: 0.2485 - accuracy: 0.9188 - val_loss: 0.4081 - val_accuracy: 0.8867\n",
            "Epoch 33/100\n",
            "55/55 [==============================] - 2s 30ms/step - loss: 0.2457 - accuracy: 0.9254 - val_loss: 0.4039 - val_accuracy: 0.8930\n",
            "Epoch 34/100\n",
            "55/55 [==============================] - 1s 21ms/step - loss: 0.2288 - accuracy: 0.9296 - val_loss: 0.4305 - val_accuracy: 0.8901\n",
            "Epoch 35/100\n",
            "55/55 [==============================] - 1s 22ms/step - loss: 0.2469 - accuracy: 0.9200 - val_loss: 0.3792 - val_accuracy: 0.8918\n",
            "Epoch 36/100\n",
            "55/55 [==============================] - 1s 22ms/step - loss: 0.2449 - accuracy: 0.9238 - val_loss: 0.3777 - val_accuracy: 0.8970\n",
            "Epoch 37/100\n",
            "55/55 [==============================] - 1s 23ms/step - loss: 0.2188 - accuracy: 0.9320 - val_loss: 0.3912 - val_accuracy: 0.8935\n",
            "Epoch 38/100\n",
            "55/55 [==============================] - 1s 23ms/step - loss: 0.2164 - accuracy: 0.9314 - val_loss: 0.3904 - val_accuracy: 0.8941\n",
            "Epoch 39/100\n",
            "55/55 [==============================] - 1s 22ms/step - loss: 0.2010 - accuracy: 0.9386 - val_loss: 0.3562 - val_accuracy: 0.9061\n",
            "Epoch 40/100\n",
            "55/55 [==============================] - 1s 21ms/step - loss: 0.2115 - accuracy: 0.9314 - val_loss: 0.3832 - val_accuracy: 0.8970\n",
            "Epoch 41/100\n",
            "55/55 [==============================] - 1s 23ms/step - loss: 0.2201 - accuracy: 0.9278 - val_loss: 0.3866 - val_accuracy: 0.9004\n",
            "Epoch 42/100\n",
            "55/55 [==============================] - 2s 33ms/step - loss: 0.1989 - accuracy: 0.9379 - val_loss: 0.3783 - val_accuracy: 0.9021\n",
            "Epoch 43/100\n",
            "55/55 [==============================] - 2s 29ms/step - loss: 0.2012 - accuracy: 0.9377 - val_loss: 0.3758 - val_accuracy: 0.9073\n",
            "Epoch 44/100\n",
            "55/55 [==============================] - 1s 22ms/step - loss: 0.1975 - accuracy: 0.9396 - val_loss: 0.4187 - val_accuracy: 0.8907\n",
            "Epoch 45/100\n",
            "55/55 [==============================] - 1s 23ms/step - loss: 0.2105 - accuracy: 0.9350 - val_loss: 0.3543 - val_accuracy: 0.9090\n",
            "Epoch 46/100\n",
            "55/55 [==============================] - 1s 21ms/step - loss: 0.2135 - accuracy: 0.9327 - val_loss: 0.3718 - val_accuracy: 0.9038\n",
            "Epoch 47/100\n",
            "55/55 [==============================] - 1s 21ms/step - loss: 0.1905 - accuracy: 0.9419 - val_loss: 0.3812 - val_accuracy: 0.8964\n",
            "Epoch 48/100\n",
            "55/55 [==============================] - 1s 21ms/step - loss: 0.1847 - accuracy: 0.9409 - val_loss: 0.4040 - val_accuracy: 0.8970\n",
            "Epoch 49/100\n",
            "55/55 [==============================] - 1s 22ms/step - loss: 0.1857 - accuracy: 0.9380 - val_loss: 0.3915 - val_accuracy: 0.9056\n",
            "Epoch 50/100\n",
            "55/55 [==============================] - 1s 22ms/step - loss: 0.2076 - accuracy: 0.9314 - val_loss: 0.3931 - val_accuracy: 0.9044\n",
            "Epoch 51/100\n",
            "55/55 [==============================] - 1s 21ms/step - loss: 0.2121 - accuracy: 0.9309 - val_loss: 0.3637 - val_accuracy: 0.9153\n",
            "Epoch 52/100\n",
            "55/55 [==============================] - 2s 32ms/step - loss: 0.1802 - accuracy: 0.9437 - val_loss: 0.3718 - val_accuracy: 0.9067\n",
            "Epoch 53/100\n",
            "55/55 [==============================] - 2s 32ms/step - loss: 0.1873 - accuracy: 0.9412 - val_loss: 0.3561 - val_accuracy: 0.9061\n",
            "Epoch 54/100\n",
            "55/55 [==============================] - 1s 22ms/step - loss: 0.1660 - accuracy: 0.9469 - val_loss: 0.3634 - val_accuracy: 0.9181\n",
            "Epoch 55/100\n",
            "55/55 [==============================] - 1s 21ms/step - loss: 0.2001 - accuracy: 0.9386 - val_loss: 0.4152 - val_accuracy: 0.8952\n",
            "Epoch 56/100\n",
            "55/55 [==============================] - 1s 20ms/step - loss: 0.1730 - accuracy: 0.9426 - val_loss: 0.3652 - val_accuracy: 0.9078\n",
            "Epoch 57/100\n",
            "55/55 [==============================] - 1s 21ms/step - loss: 0.1716 - accuracy: 0.9452 - val_loss: 0.3747 - val_accuracy: 0.9090\n",
            "Epoch 58/100\n",
            "55/55 [==============================] - 1s 21ms/step - loss: 0.1582 - accuracy: 0.9520 - val_loss: 0.3631 - val_accuracy: 0.9090\n",
            "Epoch 59/100\n",
            "55/55 [==============================] - 1s 22ms/step - loss: 0.1690 - accuracy: 0.9463 - val_loss: 0.4011 - val_accuracy: 0.8958\n",
            "Epoch 60/100\n",
            "55/55 [==============================] - 1s 23ms/step - loss: 0.1797 - accuracy: 0.9445 - val_loss: 0.4097 - val_accuracy: 0.8947\n",
            "Epoch 61/100\n",
            "55/55 [==============================] - 1s 22ms/step - loss: 0.1667 - accuracy: 0.9482 - val_loss: 0.3603 - val_accuracy: 0.9073\n",
            "Epoch 62/100\n",
            "55/55 [==============================] - 2s 31ms/step - loss: 0.1716 - accuracy: 0.9456 - val_loss: 0.3922 - val_accuracy: 0.8998\n",
            "Epoch 63/100\n",
            "55/55 [==============================] - 2s 34ms/step - loss: 0.1782 - accuracy: 0.9436 - val_loss: 0.3575 - val_accuracy: 0.9004\n",
            "Epoch 64/100\n",
            "55/55 [==============================] - 1s 22ms/step - loss: 0.1585 - accuracy: 0.9522 - val_loss: 0.3989 - val_accuracy: 0.9044\n",
            "Epoch 65/100\n",
            "55/55 [==============================] - 1s 21ms/step - loss: 0.1581 - accuracy: 0.9510 - val_loss: 0.3699 - val_accuracy: 0.9073\n",
            "Epoch 66/100\n",
            "55/55 [==============================] - 1s 21ms/step - loss: 0.1621 - accuracy: 0.9512 - val_loss: 0.3949 - val_accuracy: 0.9010\n",
            "Epoch 67/100\n",
            "55/55 [==============================] - 1s 21ms/step - loss: 0.1447 - accuracy: 0.9568 - val_loss: 0.3244 - val_accuracy: 0.9204\n",
            "Epoch 68/100\n",
            "55/55 [==============================] - 1s 21ms/step - loss: 0.1665 - accuracy: 0.9489 - val_loss: 0.3937 - val_accuracy: 0.9010\n",
            "Epoch 69/100\n",
            "55/55 [==============================] - 1s 24ms/step - loss: 0.1598 - accuracy: 0.9523 - val_loss: 0.3517 - val_accuracy: 0.9084\n",
            "Epoch 70/100\n",
            "55/55 [==============================] - 1s 22ms/step - loss: 0.1469 - accuracy: 0.9553 - val_loss: 0.3861 - val_accuracy: 0.9033\n",
            "Epoch 71/100\n",
            "55/55 [==============================] - 1s 23ms/step - loss: 0.1668 - accuracy: 0.9479 - val_loss: 0.3324 - val_accuracy: 0.9136\n",
            "Epoch 72/100\n",
            "55/55 [==============================] - 2s 30ms/step - loss: 0.1457 - accuracy: 0.9536 - val_loss: 0.3729 - val_accuracy: 0.9067\n",
            "Epoch 73/100\n",
            "55/55 [==============================] - 2s 34ms/step - loss: 0.1616 - accuracy: 0.9487 - val_loss: 0.3506 - val_accuracy: 0.9096\n",
            "Epoch 74/100\n",
            "55/55 [==============================] - 1s 22ms/step - loss: 0.1481 - accuracy: 0.9550 - val_loss: 0.3799 - val_accuracy: 0.9061\n",
            "Epoch 75/100\n",
            "55/55 [==============================] - 1s 23ms/step - loss: 0.1461 - accuracy: 0.9556 - val_loss: 0.3322 - val_accuracy: 0.9187\n",
            "Epoch 76/100\n",
            "55/55 [==============================] - 1s 22ms/step - loss: 0.1477 - accuracy: 0.9548 - val_loss: 0.3607 - val_accuracy: 0.9101\n",
            "Epoch 77/100\n",
            "55/55 [==============================] - 1s 23ms/step - loss: 0.1531 - accuracy: 0.9539 - val_loss: 0.3516 - val_accuracy: 0.9141\n",
            "Epoch 78/100\n",
            "55/55 [==============================] - 1s 23ms/step - loss: 0.1645 - accuracy: 0.9467 - val_loss: 0.3350 - val_accuracy: 0.9233\n",
            "Epoch 79/100\n",
            "55/55 [==============================] - 1s 23ms/step - loss: 0.1472 - accuracy: 0.9550 - val_loss: 0.3979 - val_accuracy: 0.8970\n",
            "Epoch 80/100\n",
            "55/55 [==============================] - 1s 21ms/step - loss: 0.1412 - accuracy: 0.9548 - val_loss: 0.3399 - val_accuracy: 0.9159\n",
            "Epoch 81/100\n",
            "55/55 [==============================] - 1s 23ms/step - loss: 0.1448 - accuracy: 0.9552 - val_loss: 0.3655 - val_accuracy: 0.9067\n",
            "Epoch 82/100\n",
            "55/55 [==============================] - 2s 30ms/step - loss: 0.1445 - accuracy: 0.9543 - val_loss: 0.3526 - val_accuracy: 0.9084\n",
            "Epoch 83/100\n",
            "55/55 [==============================] - 2s 33ms/step - loss: 0.1525 - accuracy: 0.9520 - val_loss: 0.3484 - val_accuracy: 0.9044\n",
            "Epoch 84/100\n",
            "55/55 [==============================] - 1s 23ms/step - loss: 0.1469 - accuracy: 0.9520 - val_loss: 0.3532 - val_accuracy: 0.9141\n",
            "Epoch 85/100\n",
            "55/55 [==============================] - 1s 21ms/step - loss: 0.1407 - accuracy: 0.9555 - val_loss: 0.3520 - val_accuracy: 0.9147\n",
            "Epoch 86/100\n",
            "55/55 [==============================] - 1s 21ms/step - loss: 0.1485 - accuracy: 0.9528 - val_loss: 0.3399 - val_accuracy: 0.9124\n",
            "Epoch 87/100\n",
            "55/55 [==============================] - 1s 22ms/step - loss: 0.1520 - accuracy: 0.9529 - val_loss: 0.3431 - val_accuracy: 0.9101\n",
            "Epoch 88/100\n",
            "55/55 [==============================] - 1s 23ms/step - loss: 0.1445 - accuracy: 0.9528 - val_loss: 0.3682 - val_accuracy: 0.9107\n",
            "Epoch 89/100\n",
            "55/55 [==============================] - 1s 22ms/step - loss: 0.1481 - accuracy: 0.9532 - val_loss: 0.3366 - val_accuracy: 0.9136\n",
            "Epoch 90/100\n",
            "55/55 [==============================] - 1s 23ms/step - loss: 0.1468 - accuracy: 0.9520 - val_loss: 0.3749 - val_accuracy: 0.9044\n",
            "Epoch 91/100\n",
            "55/55 [==============================] - 1s 23ms/step - loss: 0.1316 - accuracy: 0.9586 - val_loss: 0.3669 - val_accuracy: 0.9056\n",
            "Epoch 92/100\n",
            "55/55 [==============================] - 2s 29ms/step - loss: 0.1354 - accuracy: 0.9592 - val_loss: 0.3985 - val_accuracy: 0.9044\n",
            "Epoch 93/100\n",
            "55/55 [==============================] - 2s 34ms/step - loss: 0.1240 - accuracy: 0.9628 - val_loss: 0.3407 - val_accuracy: 0.9204\n",
            "Epoch 94/100\n",
            "55/55 [==============================] - 1s 25ms/step - loss: 0.1313 - accuracy: 0.9583 - val_loss: 0.3755 - val_accuracy: 0.9061\n",
            "Epoch 95/100\n",
            "55/55 [==============================] - 1s 21ms/step - loss: 0.1265 - accuracy: 0.9626 - val_loss: 0.3943 - val_accuracy: 0.9033\n",
            "Epoch 96/100\n",
            "55/55 [==============================] - 1s 21ms/step - loss: 0.1198 - accuracy: 0.9619 - val_loss: 0.3142 - val_accuracy: 0.9239\n",
            "Epoch 97/100\n",
            "55/55 [==============================] - 2s 33ms/step - loss: 0.1309 - accuracy: 0.9589 - val_loss: 0.3537 - val_accuracy: 0.9153\n",
            "Epoch 98/100\n",
            "55/55 [==============================] - 1s 22ms/step - loss: 0.1525 - accuracy: 0.9505 - val_loss: 0.3580 - val_accuracy: 0.9124\n",
            "Epoch 99/100\n",
            "55/55 [==============================] - 1s 23ms/step - loss: 0.1303 - accuracy: 0.9583 - val_loss: 0.3597 - val_accuracy: 0.9141\n",
            "Epoch 100/100\n",
            "55/55 [==============================] - 1s 22ms/step - loss: 0.1415 - accuracy: 0.9543 - val_loss: 0.3415 - val_accuracy: 0.9118\n"
          ]
        }
      ]
    },
    {
      "cell_type": "code",
      "source": [
        "# Evaluate the model on the test data\n",
        "test_loss, test_accuracy = dnn_model.evaluate(x_test, y_test)\n",
        "\n",
        "# Print the evaluation metrics\n",
        "print('Test loss:', test_loss)\n",
        "print('Test accuracy:', test_accuracy)"
      ],
      "metadata": {
        "colab": {
          "base_uri": "https://localhost:8080/"
        },
        "id": "zV63nnHO7cr3",
        "outputId": "3c953ca4-9e2d-4b16-b83e-55ffb8b77b16"
      },
      "execution_count": 15,
      "outputs": [
        {
          "output_type": "stream",
          "name": "stdout",
          "text": [
            "55/55 [==============================] - 0s 4ms/step - loss: 0.3415 - accuracy: 0.9118\n",
            "Test loss: 0.34147584438323975\n",
            "Test accuracy: 0.9118489027023315\n"
          ]
        }
      ]
    },
    {
      "cell_type": "code",
      "source": [
        "#Performance (Accuracy and Loss) of DNN during the training  \n",
        "plot_performance(dnn_history)"
      ],
      "metadata": {
        "colab": {
          "base_uri": "https://localhost:8080/",
          "height": 458
        },
        "id": "xVUv54U68seD",
        "outputId": "745d584a-3e84-4b32-9602-e44d3ad749b5"
      },
      "execution_count": 16,
      "outputs": [
        {
          "output_type": "display_data",
          "data": {
            "text/plain": [
              "<Figure size 1440x504 with 2 Axes>"
            ],
            "image/png": "[encoded data removed]"
          },
          "metadata": {
            "needs_background": "light"
          }
        }
      ]
    },
    {
      "cell_type": "code",
      "source": [
        "# Get the predicted labels for the test data\n",
        "dnn_predictions  = dnn_model.predict(x_test)"
      ],
      "metadata": {
        "colab": {
          "base_uri": "https://localhost:8080/"
        },
        "id": "WB3A5SuQ7pCV",
        "outputId": "12b2334d-f919-4722-de29-92a43d720bd1"
      },
      "execution_count": 17,
      "outputs": [
        {
          "output_type": "stream",
          "name": "stderr",
          "text": [
            "WARNING:tensorflow:Model was constructed with shape (None, 80, 80) for input KerasTensor(type_spec=TensorSpec(shape=(None, 80, 80), dtype=tf.float32, name='dense_6_input'), name='dense_6_input', description=\"created by layer 'dense_6_input'\"), but it was called on an input with incompatible shape (None, 80).\n"
          ]
        },
        {
          "output_type": "stream",
          "name": "stdout",
          "text": [
            "55/55 [==============================] - 0s 3ms/step\n"
          ]
        }
      ]
    },
    {
      "cell_type": "code",
      "source": [
        "dnn_predictions = np.argmax(dnn_predictions, axis=1)\n",
        "y_test=np.argmax(y_test, axis=1)"
      ],
      "metadata": {
        "id": "QlA5fqFi8Pbu"
      },
      "execution_count": 18,
      "outputs": []
    },
    {
      "cell_type": "code",
      "source": [
        "def get_key(val):\n",
        "    for key, value in labelencoder_name_mapping.items():\n",
        "        if val == value:\n",
        "            return key\n",
        "\n",
        "def mapping(predictions):\n",
        "    new_list = []\n",
        "    for i in predictions:\n",
        "        new_list.append(get_key(i))\n",
        "    return np.array(new_list)"
      ],
      "metadata": {
        "id": "1RIP0LwJuBw3"
      },
      "execution_count": 19,
      "outputs": []
    },
    {
      "cell_type": "code",
      "source": [
        "#Mapping the output with actual label\n",
        "dnn_predictions = mapping(dnn_predictions)"
      ],
      "metadata": {
        "id": "FR-UD6AquDFv"
      },
      "execution_count": 20,
      "outputs": []
    },
    {
      "cell_type": "code",
      "source": [
        "y_test = mapping(y_test)"
      ],
      "metadata": {
        "id": "GFWkAccEuGk2"
      },
      "execution_count": 21,
      "outputs": []
    },
    {
      "cell_type": "code",
      "source": [
        "class_names = np.unique(dnn_predictions)\n",
        "class_names"
      ],
      "metadata": {
        "colab": {
          "base_uri": "https://localhost:8080/"
        },
        "id": "2cZqoAApuIEu",
        "outputId": "aed4291f-be55-465d-bd37-35464b82c4f3"
      },
      "execution_count": 22,
      "outputs": [
        {
          "output_type": "execute_result",
          "data": {
            "text/plain": [
              "array(['air_conditioner', 'car_horn', 'children_playing', 'dog_bark',\n",
              "       'drilling', 'engine_idling', 'gun_shot', 'jackhammer', 'siren',\n",
              "       'street_music'], dtype='<U16')"
            ]
          },
          "metadata": {},
          "execution_count": 22
        }
      ]
    },
    {
      "cell_type": "code",
      "source": [
        "#Creating a Confusion Matrix to Evaluate the Model\n",
        "import seaborn as sns\n",
        "from sklearn.metrics import *\n",
        "sns.set(rc={'figure.figsize':(11.7,8.27)})\n",
        "dnn_matrix = confusion_matrix(y_test, dnn_predictions, labels = class_names)"
      ],
      "metadata": {
        "id": "LZZAoiltuRfO"
      },
      "execution_count": 23,
      "outputs": []
    },
    {
      "cell_type": "code",
      "source": [
        "dnn_cmtx = pd.DataFrame(\n",
        "    dnn_matrix, \n",
        "    index=['true:{:}'.format(x) for x in class_names], \n",
        "    columns=['pred:{:}'.format(x) for x in class_names]\n",
        ")"
      ],
      "metadata": {
        "id": "nfmMEHcwuVd_"
      },
      "execution_count": 24,
      "outputs": []
    },
    {
      "cell_type": "code",
      "source": [
        "#Confusion Matrix for the Deep Learning Model on Features - MFCC's\n",
        "sns.heatmap(dnn_cmtx, annot= True, cmap = 'GnBu', fmt='g')"
      ],
      "metadata": {
        "colab": {
          "base_uri": "https://localhost:8080/",
          "height": 626
        },
        "id": "kodQv0_-uX6P",
        "outputId": "e6262e98-883c-422e-9342-ececb2b1971d"
      },
      "execution_count": 25,
      "outputs": [
        {
          "output_type": "execute_result",
          "data": {
            "text/plain": [
              "<AxesSubplot:>"
            ]
          },
          "metadata": {},
          "execution_count": 25
        },
        {
          "output_type": "display_data",
          "data": {
            "text/plain": [
              "<Figure size 842.4x595.44 with 2 Axes>"
            ],
            "image/png": "[encoded data removed]"
          },
          "metadata": {}
        }
      ]
    },
    {
      "cell_type": "code",
      "source": [
        "X=np.array(extracted_features_df['feature'].tolist())\n",
        "y=np.array(extracted_features_df['class'].tolist())\n",
        "\n",
        "labelencoder=LabelEncoder()\n",
        "y = labelencoder.fit_transform(y)"
      ],
      "metadata": {
        "id": "DA1SDVgVuaw3"
      },
      "execution_count": 26,
      "outputs": []
    },
    {
      "cell_type": "code",
      "source": [
        "#Splitting Data into Training and Test\n",
        "x_train, x_test, y_train, y_test = train_test_split(X, y, test_size=0.2, random_state=42)  "
      ],
      "metadata": {
        "id": "YmYRqfZU0AXn"
      },
      "execution_count": 27,
      "outputs": []
    },
    {
      "cell_type": "code",
      "source": [
        "#Initializing Random Forest Classifier and SVM\n",
        "plt.rcParams[\"figure.figsize\"] = (11.7,8.27)\n",
        "forest_clf = RandomForestClassifier(max_depth=10, random_state=0)\n",
        "svm_clf = make_pipeline(StandardScaler(), SVC(gamma='auto'))"
      ],
      "metadata": {
        "id": "W2-Fh5cn0DGX"
      },
      "execution_count": 28,
      "outputs": []
    },
    {
      "cell_type": "code",
      "source": [
        "from sklearn.model_selection import RandomizedSearchCV\n",
        "# RandomForest hyperparameter tuning\n",
        "rf_param_grid = {\n",
        "    'n_estimators': [100, 200, 500],\n",
        "    'max_depth': [10, 20, 30],\n",
        "    'min_samples_split': [2, 5, 10],\n",
        "    'min_samples_leaf': [1, 2, 4],\n",
        "}\n",
        "\n",
        "rf_random_search = RandomizedSearchCV(RandomForestClassifier(random_state=0), rf_param_grid, n_iter=5, cv=3, n_jobs=-1)\n",
        "rf_random_search.fit(x_train, y_train)\n",
        "print(\"Best parameters for SVC: \", rf_random_search.best_params_)"
      ],
      "metadata": {
        "colab": {
          "base_uri": "https://localhost:8080/"
        },
        "id": "8iv_664G05wv",
        "outputId": "d430b2e6-6c96-4ff0-dbe8-9b126a344f8f"
      },
      "execution_count": 29,
      "outputs": [
        {
          "output_type": "stream",
          "name": "stdout",
          "text": [
            "Best parameters for SVC:  {'n_estimators': 500, 'min_samples_split': 2, 'min_samples_leaf': 1, 'max_depth': 20}\n"
          ]
        }
      ]
    },
    {
      "cell_type": "code",
      "source": [
        "# Train RandomForest with the best parameters found by RandomizedSearchCV\n",
        "forest_clf = RandomForestClassifier(**rf_random_search.best_params_)"
      ],
      "metadata": {
        "id": "8t4_b4CX1lvn"
      },
      "execution_count": 30,
      "outputs": []
    },
    {
      "cell_type": "code",
      "source": [
        "# SVC hyperparameter tuning\n",
        "svc_param_grid = {\n",
        "    'svc__C': [0.1, 1, 10],\n",
        "    'svc__kernel': ['linear', 'rbf', 'sigmoid'],\n",
        "    'svc__gamma': ['scale', 'auto']\n",
        "}\n",
        "\n",
        "# Replace GridSearchCV with RandomizedSearchCV\n",
        "svc_random_search = RandomizedSearchCV(make_pipeline(StandardScaler(), SVC()), svc_param_grid, n_iter=5, cv=3, n_jobs=-1)\n",
        "svc_random_search.fit(x_train, y_train)\n",
        "print(\"Best parameters for SVC: \", svc_random_search.best_params_)"
      ],
      "metadata": {
        "colab": {
          "base_uri": "https://localhost:8080/"
        },
        "id": "f8lKOQi26JzW",
        "outputId": "5d990908-d4dd-4661-9e69-5c88bdede853"
      },
      "execution_count": 31,
      "outputs": [
        {
          "output_type": "stream",
          "name": "stdout",
          "text": [
            "Best parameters for SVC:  {'svc__kernel': 'rbf', 'svc__gamma': 'auto', 'svc__C': 10}\n"
          ]
        }
      ]
    },
    {
      "cell_type": "code",
      "source": [
        "# Train SVC with the best parameters found by RandomizedSearchCV\n",
        "best_svc_params = {key.replace(\"svc__\", \"\"): value for key, value in svc_random_search.best_params_.items()}\n",
        "svm_clf = make_pipeline(StandardScaler(), SVC(**best_svc_params))"
      ],
      "metadata": {
        "id": "Bm5UoYND7_zE"
      },
      "execution_count": 32,
      "outputs": []
    },
    {
      "cell_type": "code",
      "source": [
        "#Function to Train Models\n",
        "def run_models(model):\n",
        "    model.fit(x_train, y_train)\n",
        "    y_pred = model.predict(x_test)\n",
        "    print('Precision of the model is: %.3f' % precision_score(y_test, y_pred, average = 'micro'))\n",
        "    print('Recall of the model is: %.3f' % recall_score(y_test, y_pred, average = 'macro'))\n",
        "    print('F1 Score of the model: %.3f' % f1_score(y_test, y_pred, average = 'micro'))\n",
        "    print('Accuracy of the model on testing data is: %.3f' % accuracy_score(y_test, y_pred))\n",
        "    return np.array(mapping(y_pred))"
      ],
      "metadata": {
        "id": "PYz9Pmxx1qbG"
      },
      "execution_count": 33,
      "outputs": []
    },
    {
      "cell_type": "code",
      "source": [
        "#Evaluation of Random Forest on Test data\n",
        "forest_matrix = confusion_matrix(mapping(y_test), run_models(forest_clf), labels = class_names)"
      ],
      "metadata": {
        "colab": {
          "base_uri": "https://localhost:8080/"
        },
        "id": "C-twbBcC6DqW",
        "outputId": "28d215ed-9105-41bb-e6db-e86791550b62"
      },
      "execution_count": 34,
      "outputs": [
        {
          "output_type": "stream",
          "name": "stdout",
          "text": [
            "Precision of the model is: 0.912\n",
            "Recall of the model is: 0.898\n",
            "F1 Score of the model: 0.912\n",
            "Accuracy of the model on testing data is: 0.912\n"
          ]
        }
      ]
    },
    {
      "cell_type": "code",
      "source": [
        "#Evaluation of SVM on Test data\n",
        "svm_matrix = confusion_matrix(mapping(y_test), run_models(svm_clf), labels = class_names)"
      ],
      "metadata": {
        "colab": {
          "base_uri": "https://localhost:8080/"
        },
        "id": "yd2ZYoh56FM_",
        "outputId": "cefa6d28-8bc5-424c-e490-0df5a507a830"
      },
      "execution_count": 35,
      "outputs": [
        {
          "output_type": "stream",
          "name": "stdout",
          "text": [
            "Precision of the model is: 0.943\n",
            "Recall of the model is: 0.941\n",
            "F1 Score of the model: 0.943\n",
            "Accuracy of the model on testing data is: 0.943\n"
          ]
        }
      ]
    },
    {
      "cell_type": "code",
      "source": [
        "forest_cmtx = pd.DataFrame(\n",
        "    forest_matrix, \n",
        "    index=['true:{:}'.format(x) for x in class_names], \n",
        "    columns=['pred:{:}'.format(x) for x in class_names]\n",
        ")\n",
        "\n",
        "svm_cmtx = pd.DataFrame(\n",
        "    svm_matrix, \n",
        "    index=['true:{:}'.format(x) for x in class_names], \n",
        "    columns=['pred:{:}'.format(x) for x in class_names]\n",
        ")"
      ],
      "metadata": {
        "id": "QfVPCpWM9D-P"
      },
      "execution_count": 36,
      "outputs": []
    },
    {
      "cell_type": "code",
      "source": [
        "#Confusion Matrix for Random Forest on features - MFCC's\n",
        "sns.heatmap(forest_cmtx, annot= True, cmap = 'GnBu', fmt='g')"
      ],
      "metadata": {
        "colab": {
          "base_uri": "https://localhost:8080/",
          "height": 630
        },
        "id": "FFqnXjzP9HP2",
        "outputId": "9b6a63a6-33c7-49d7-a469-24af74e6f576"
      },
      "execution_count": 37,
      "outputs": [
        {
          "output_type": "execute_result",
          "data": {
            "text/plain": [
              "<AxesSubplot:>"
            ]
          },
          "metadata": {},
          "execution_count": 37
        },
        {
          "output_type": "display_data",
          "data": {
            "text/plain": [
              "<Figure size 842.4x595.44 with 2 Axes>"
            ],
            "image/png": "[encoded data removed]"
          },
          "metadata": {}
        }
      ]
    },
    {
      "cell_type": "code",
      "source": [
        "#Confusion Matrix for SVM on features - MFCC's\n",
        "sns.heatmap(svm_cmtx, annot= True, cmap = 'GnBu', fmt='g')"
      ],
      "metadata": {
        "colab": {
          "base_uri": "https://localhost:8080/",
          "height": 626
        },
        "id": "uEr0Ojo-9JHH",
        "outputId": "2dae3274-520b-4e2e-f25a-583f105ecaa9"
      },
      "execution_count": 38,
      "outputs": [
        {
          "output_type": "execute_result",
          "data": {
            "text/plain": [
              "<AxesSubplot:>"
            ]
          },
          "metadata": {},
          "execution_count": 38
        },
        {
          "output_type": "display_data",
          "data": {
            "text/plain": [
              "<Figure size 842.4x595.44 with 2 Axes>"
            ],
            "image/png": "[encoded data removed]"
          },
          "metadata": {}
        }
      ]
    }
  ]
}